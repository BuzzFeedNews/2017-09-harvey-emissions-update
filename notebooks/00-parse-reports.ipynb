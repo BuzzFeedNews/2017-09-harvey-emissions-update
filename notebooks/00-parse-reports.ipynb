{
 "cells": [
  {
   "cell_type": "markdown",
   "metadata": {},
   "source": [
    "# Parse emissions reports\n",
    "\n",
    "This notebook parses reports scraped from the Texas Commission on Environmental Quality's Air Emission Event Reporting Database, and saves the parsed data to two CSV files."
   ]
  },
  {
   "cell_type": "code",
   "execution_count": 1,
   "metadata": {
    "collapsed": true
   },
   "outputs": [],
   "source": [
    "import lxml.html\n",
    "import pandas as pd\n",
    "import glob\n",
    "import re"
   ]
  },
  {
   "cell_type": "code",
   "execution_count": 2,
   "metadata": {},
   "outputs": [
    {
     "data": {
      "text/plain": [
       "1066"
      ]
     },
     "execution_count": 2,
     "metadata": {},
     "output_type": "execute_result"
    }
   ],
   "source": [
    "report_paths = glob.glob(\"../inputs/scraped-reports/*.html\")\n",
    "len(report_paths)"
   ]
  },
  {
   "cell_type": "code",
   "execution_count": 3,
   "metadata": {
    "collapsed": true
   },
   "outputs": [],
   "source": [
    "def get_cell_text(el):\n",
    "    return re.sub(r\"\\s+\", \" \", el.text_content()).strip()"
   ]
  },
  {
   "cell_type": "code",
   "execution_count": 4,
   "metadata": {
    "collapsed": true
   },
   "outputs": [],
   "source": [
    "class Report(object):\n",
    "    def __init__(self, path):\n",
    "        self.path = path\n",
    "        self.report_id = path.split(\"/\")[-1].split(\".\")[0]\n",
    "        self.dom = lxml.html.fromstring(open(path).read())\n",
    "        self.tables = self.dom.cssselect(\"#content table\")\n",
    "    \n",
    "    @property\n",
    "    def metadata(self):\n",
    "        cells = self.tables[0].cssselect(\"th, td\")\n",
    "        d = dict(zip(\n",
    "            map(get_cell_text, cells[0::2]),\n",
    "            map(get_cell_text, cells[1::2])\n",
    "        ))\n",
    "        d[\"report_id\"] = self.report_id\n",
    "        return d\n",
    "    \n",
    "    @property\n",
    "    def emissions(self):\n",
    "        arr = []\n",
    "        for table in self.tables[1:]:\n",
    "            rows = table.cssselect(\"tr\")\n",
    "            for row in rows:\n",
    "                cells = row.cssselect(\"td\")\n",
    "                if len(cells) > 0:\n",
    "                    arr.append([self.report_id] + list(map(get_cell_text, cells)))\n",
    "        return arr"
   ]
  },
  {
   "cell_type": "markdown",
   "metadata": {},
   "source": [
    "## Test on one report"
   ]
  },
  {
   "cell_type": "code",
   "execution_count": 5,
   "metadata": {
    "collapsed": true
   },
   "outputs": [],
   "source": [
    "report = Report(report_paths[0])"
   ]
  },
  {
   "cell_type": "code",
   "execution_count": 6,
   "metadata": {},
   "outputs": [
    {
     "data": {
      "text/plain": [
       "{'Action taken': '',\n",
       " 'Cause': 'Unauthorized discharge at 150 Persimmon Manhole. Due to power outage. 9100 Gallons.',\n",
       " 'City, County': 'BAYTOWN, HARRIS',\n",
       " 'Emissions estimation method': '',\n",
       " 'Event began:': '08/10/2017 8:43PM',\n",
       " 'Event ended:': '08/10/2017 11:45PM',\n",
       " 'Physical location': '',\n",
       " 'Regulated entity RN number': 'RN101611457',\n",
       " 'Regulated entity name': 'EAST DISTRICT',\n",
       " 'This is based on the:': 'FINAL REPORT',\n",
       " 'Type(s) of air emissions event:': 'WASTEWATER BYPASS',\n",
       " 'report_id': '265500'}"
      ]
     },
     "execution_count": 6,
     "metadata": {},
     "output_type": "execute_result"
    }
   ],
   "source": [
    "report.metadata"
   ]
  },
  {
   "cell_type": "code",
   "execution_count": 7,
   "metadata": {},
   "outputs": [
    {
     "data": {
      "text/plain": [
       "[['265500', 'Sewage', '', '0.0', '9100.0 gals (est.)']]"
      ]
     },
     "execution_count": 7,
     "metadata": {},
     "output_type": "execute_result"
    }
   ],
   "source": [
    "report.emissions"
   ]
  },
  {
   "cell_type": "markdown",
   "metadata": {},
   "source": [
    "## Parse all reports"
   ]
  },
  {
   "cell_type": "code",
   "execution_count": 8,
   "metadata": {},
   "outputs": [
    {
     "data": {
      "text/html": [
       "<div>\n",
       "<style>\n",
       "    .dataframe thead tr:only-child th {\n",
       "        text-align: right;\n",
       "    }\n",
       "\n",
       "    .dataframe thead th {\n",
       "        text-align: left;\n",
       "    }\n",
       "\n",
       "    .dataframe tbody tr th {\n",
       "        vertical-align: top;\n",
       "    }\n",
       "</style>\n",
       "<table border=\"1\" class=\"dataframe\">\n",
       "  <thead>\n",
       "    <tr style=\"text-align: right;\">\n",
       "      <th></th>\n",
       "      <th>Action taken</th>\n",
       "      <th>Cause</th>\n",
       "      <th>City, County</th>\n",
       "      <th>Emissions estimation method</th>\n",
       "      <th>Event began</th>\n",
       "      <th>Event ended</th>\n",
       "      <th>Physical location</th>\n",
       "      <th>Regulated entity RN number</th>\n",
       "      <th>Regulated entity name</th>\n",
       "      <th>This is based on the</th>\n",
       "      <th>Type(s) of air emissions event</th>\n",
       "      <th>report_id</th>\n",
       "    </tr>\n",
       "  </thead>\n",
       "  <tbody>\n",
       "    <tr>\n",
       "      <th>0</th>\n",
       "      <td></td>\n",
       "      <td>Unauthorized discharge at 150 Persimmon Manhol...</td>\n",
       "      <td>BAYTOWN, HARRIS</td>\n",
       "      <td></td>\n",
       "      <td>08/10/2017 8:43PM</td>\n",
       "      <td>08/10/2017 11:45PM</td>\n",
       "      <td></td>\n",
       "      <td>RN101611457</td>\n",
       "      <td>EAST DISTRICT</td>\n",
       "      <td>FINAL REPORT</td>\n",
       "      <td>WASTEWATER BYPASS</td>\n",
       "      <td>265500</td>\n",
       "    </tr>\n",
       "    <tr>\n",
       "      <th>1</th>\n",
       "      <td></td>\n",
       "      <td>Chlorinated Excursion; Cleared Private Line; C...</td>\n",
       "      <td>HOUSTON, HARRIS</td>\n",
       "      <td></td>\n",
       "      <td>08/04/2017</td>\n",
       "      <td>08/04/2017</td>\n",
       "      <td></td>\n",
       "      <td>RN101607596</td>\n",
       "      <td>BELTWAY WWTP</td>\n",
       "      <td>FINAL REPORT</td>\n",
       "      <td>WASTEWATER BYPASS</td>\n",
       "      <td>265502</td>\n",
       "    </tr>\n",
       "    <tr>\n",
       "      <th>2</th>\n",
       "      <td></td>\n",
       "      <td>Scheduled for Further Repairs;</td>\n",
       "      <td>HOUSTON, HARRIS</td>\n",
       "      <td></td>\n",
       "      <td>08/04/2017</td>\n",
       "      <td>08/04/2017</td>\n",
       "      <td></td>\n",
       "      <td>RN101612158</td>\n",
       "      <td>FWSD 23 WWTP</td>\n",
       "      <td>FINAL REPORT</td>\n",
       "      <td>WASTEWATER BYPASS</td>\n",
       "      <td>265503</td>\n",
       "    </tr>\n",
       "    <tr>\n",
       "      <th>3</th>\n",
       "      <td></td>\n",
       "      <td>Unauthorized Discharge at 1016 Applewood manho...</td>\n",
       "      <td>FRIENDSWOOD, HARRIS</td>\n",
       "      <td></td>\n",
       "      <td>08/14/2017 7:00PM</td>\n",
       "      <td>08/14/2017 10:00PM</td>\n",
       "      <td></td>\n",
       "      <td>RN102183340</td>\n",
       "      <td>BLACKHAWK REGIONAL WTP</td>\n",
       "      <td>FINAL REPORT</td>\n",
       "      <td>WASTEWATER BYPASS</td>\n",
       "      <td>265504</td>\n",
       "    </tr>\n",
       "    <tr>\n",
       "      <th>4</th>\n",
       "      <td></td>\n",
       "      <td>Chlorinated Excursion; Cleared Private Line; C...</td>\n",
       "      <td>HOUSTON, HARRIS</td>\n",
       "      <td></td>\n",
       "      <td>08/04/2017</td>\n",
       "      <td>08/04/2017</td>\n",
       "      <td>9400 White Chapel Ln, Houston, TX</td>\n",
       "      <td>RN101614113</td>\n",
       "      <td>KEEGANS BAYOU WWTP</td>\n",
       "      <td>FINAL REPORT</td>\n",
       "      <td>WASTEWATER BYPASS</td>\n",
       "      <td>265505</td>\n",
       "    </tr>\n",
       "  </tbody>\n",
       "</table>\n",
       "</div>"
      ],
      "text/plain": [
       "  Action taken                                              Cause  \\\n",
       "0               Unauthorized discharge at 150 Persimmon Manhol...   \n",
       "1               Chlorinated Excursion; Cleared Private Line; C...   \n",
       "2                                  Scheduled for Further Repairs;   \n",
       "3               Unauthorized Discharge at 1016 Applewood manho...   \n",
       "4               Chlorinated Excursion; Cleared Private Line; C...   \n",
       "\n",
       "          City, County Emissions estimation method        Event began  \\\n",
       "0      BAYTOWN, HARRIS                              08/10/2017 8:43PM   \n",
       "1      HOUSTON, HARRIS                                     08/04/2017   \n",
       "2      HOUSTON, HARRIS                                     08/04/2017   \n",
       "3  FRIENDSWOOD, HARRIS                              08/14/2017 7:00PM   \n",
       "4      HOUSTON, HARRIS                                     08/04/2017   \n",
       "\n",
       "          Event ended                  Physical location  \\\n",
       "0  08/10/2017 11:45PM                                      \n",
       "1          08/04/2017                                      \n",
       "2          08/04/2017                                      \n",
       "3  08/14/2017 10:00PM                                      \n",
       "4          08/04/2017  9400 White Chapel Ln, Houston, TX   \n",
       "\n",
       "  Regulated entity RN number   Regulated entity name This is based on the  \\\n",
       "0                RN101611457           EAST DISTRICT         FINAL REPORT   \n",
       "1                RN101607596            BELTWAY WWTP         FINAL REPORT   \n",
       "2                RN101612158            FWSD 23 WWTP         FINAL REPORT   \n",
       "3                RN102183340  BLACKHAWK REGIONAL WTP         FINAL REPORT   \n",
       "4                RN101614113      KEEGANS BAYOU WWTP         FINAL REPORT   \n",
       "\n",
       "  Type(s) of air emissions event report_id  \n",
       "0              WASTEWATER BYPASS    265500  \n",
       "1              WASTEWATER BYPASS    265502  \n",
       "2              WASTEWATER BYPASS    265503  \n",
       "3              WASTEWATER BYPASS    265504  \n",
       "4              WASTEWATER BYPASS    265505  "
      ]
     },
     "execution_count": 8,
     "metadata": {},
     "output_type": "execute_result"
    }
   ],
   "source": [
    "report_metadata = pd.DataFrame([ Report(path).metadata for path in report_paths ])\n",
    "report_metadata.columns = [ x.strip(\":\") for x in report_metadata.columns ]\n",
    "report_metadata.head()"
   ]
  },
  {
   "cell_type": "code",
   "execution_count": 9,
   "metadata": {},
   "outputs": [
    {
     "data": {
      "text/html": [
       "<div>\n",
       "<style>\n",
       "    .dataframe thead tr:only-child th {\n",
       "        text-align: right;\n",
       "    }\n",
       "\n",
       "    .dataframe thead th {\n",
       "        text-align: left;\n",
       "    }\n",
       "\n",
       "    .dataframe tbody tr th {\n",
       "        vertical-align: top;\n",
       "    }\n",
       "</style>\n",
       "<table border=\"1\" class=\"dataframe\">\n",
       "  <thead>\n",
       "    <tr style=\"text-align: right;\">\n",
       "      <th></th>\n",
       "      <th>report_id</th>\n",
       "      <th>contaminant</th>\n",
       "      <th>authorization</th>\n",
       "      <th>limit</th>\n",
       "      <th>amount_released</th>\n",
       "    </tr>\n",
       "  </thead>\n",
       "  <tbody>\n",
       "    <tr>\n",
       "      <th>0</th>\n",
       "      <td>265500</td>\n",
       "      <td>Sewage</td>\n",
       "      <td></td>\n",
       "      <td>0.0</td>\n",
       "      <td>9100.0 gals (est.)</td>\n",
       "    </tr>\n",
       "    <tr>\n",
       "      <th>0</th>\n",
       "      <td>265502</td>\n",
       "      <td>Sewage</td>\n",
       "      <td></td>\n",
       "      <td>0.0</td>\n",
       "      <td>0.00001 gals (est.)</td>\n",
       "    </tr>\n",
       "    <tr>\n",
       "      <th>0</th>\n",
       "      <td>265503</td>\n",
       "      <td>Sewage</td>\n",
       "      <td></td>\n",
       "      <td>0.0</td>\n",
       "      <td>0.00001 gals (est.)</td>\n",
       "    </tr>\n",
       "    <tr>\n",
       "      <th>0</th>\n",
       "      <td>265504</td>\n",
       "      <td>Sewage</td>\n",
       "      <td></td>\n",
       "      <td>0.0</td>\n",
       "      <td>11000.0 gals (est.)</td>\n",
       "    </tr>\n",
       "    <tr>\n",
       "      <th>0</th>\n",
       "      <td>265505</td>\n",
       "      <td>Sewage</td>\n",
       "      <td></td>\n",
       "      <td>0.0</td>\n",
       "      <td>0.00001 gals (est.)</td>\n",
       "    </tr>\n",
       "  </tbody>\n",
       "</table>\n",
       "</div>"
      ],
      "text/plain": [
       "  report_id contaminant authorization limit      amount_released\n",
       "0    265500      Sewage                 0.0   9100.0 gals (est.)\n",
       "0    265502      Sewage                 0.0  0.00001 gals (est.)\n",
       "0    265503      Sewage                 0.0  0.00001 gals (est.)\n",
       "0    265504      Sewage                 0.0  11000.0 gals (est.)\n",
       "0    265505      Sewage                 0.0  0.00001 gals (est.)"
      ]
     },
     "execution_count": 9,
     "metadata": {},
     "output_type": "execute_result"
    }
   ],
   "source": [
    "report_emissions = pd.concat([ pd.DataFrame(Report(path).emissions) for path in report_paths ])\n",
    "report_emissions.columns = [ \"report_id\", \"contaminant\", \"authorization\", \"limit\", \"amount_released\" ]\n",
    "report_emissions.head()"
   ]
  },
  {
   "cell_type": "markdown",
   "metadata": {},
   "source": [
    "## Write parsed data"
   ]
  },
  {
   "cell_type": "code",
   "execution_count": 10,
   "metadata": {
    "collapsed": true
   },
   "outputs": [],
   "source": [
    "report_metadata.to_csv(\"../outputs/report-metadata-raw.csv\", index=False)\n",
    "report_emissions.to_csv(\"../outputs/report-emissions-raw.csv\", index=False)"
   ]
  },
  {
   "cell_type": "markdown",
   "metadata": {},
   "source": [
    "# Do the same for historical (2015 and 2016) reports\n",
    "\n",
    "Note: These reports correspond only to the industrial facilities that reported Harvey-related emissions."
   ]
  },
  {
   "cell_type": "code",
   "execution_count": 11,
   "metadata": {},
   "outputs": [
    {
     "data": {
      "text/html": [
       "<div>\n",
       "<style>\n",
       "    .dataframe thead tr:only-child th {\n",
       "        text-align: right;\n",
       "    }\n",
       "\n",
       "    .dataframe thead th {\n",
       "        text-align: left;\n",
       "    }\n",
       "\n",
       "    .dataframe tbody tr th {\n",
       "        vertical-align: top;\n",
       "    }\n",
       "</style>\n",
       "<table border=\"1\" class=\"dataframe\">\n",
       "  <thead>\n",
       "    <tr style=\"text-align: right;\">\n",
       "      <th></th>\n",
       "      <th>Action taken</th>\n",
       "      <th>Cause</th>\n",
       "      <th>City, County</th>\n",
       "      <th>Emissions estimation method</th>\n",
       "      <th>Event began</th>\n",
       "      <th>Event ended</th>\n",
       "      <th>Physical location</th>\n",
       "      <th>Regulated entity RN number</th>\n",
       "      <th>Regulated entity name</th>\n",
       "      <th>This is based on the</th>\n",
       "      <th>Type(s) of air emissions event</th>\n",
       "      <th>report_id</th>\n",
       "    </tr>\n",
       "  </thead>\n",
       "  <tbody>\n",
       "    <tr>\n",
       "      <th>0</th>\n",
       "      <td>During start-up activities, TPC Operators and ...</td>\n",
       "      <td>Reconstruction of the Dehydrogenation Unit #2 ...</td>\n",
       "      <td>HOUSTON, HARRIS</td>\n",
       "      <td>CEMS units and engineering calculations were u...</td>\n",
       "      <td>02/01/2015</td>\n",
       "      <td>04/19/2015 1:00AM</td>\n",
       "      <td></td>\n",
       "      <td>RN100219526</td>\n",
       "      <td>HOUSTON PLANT</td>\n",
       "      <td>FINAL REPORT</td>\n",
       "      <td>EMISSIONS EVENT</td>\n",
       "      <td>207108</td>\n",
       "    </tr>\n",
       "    <tr>\n",
       "      <th>1</th>\n",
       "      <td>Enterprise recovered as much hydrocarbon as po...</td>\n",
       "      <td>Enterprise conducted maintenance in the Splitt...</td>\n",
       "      <td>MONT BELVIEU, CHAMBERS</td>\n",
       "      <td>The emissions in this report are based on meas...</td>\n",
       "      <td>12/05/2014 10:00AM</td>\n",
       "      <td>01/16/2015 8:00AM</td>\n",
       "      <td></td>\n",
       "      <td>RN102984911</td>\n",
       "      <td>ENTERPRISE EAST</td>\n",
       "      <td>FINAL REPORT</td>\n",
       "      <td>MAINTENANCE</td>\n",
       "      <td>207120</td>\n",
       "    </tr>\n",
       "    <tr>\n",
       "      <th>2</th>\n",
       "      <td>EU-1592 and U-1092 followed shutdown procedure...</td>\n",
       "      <td>The EU-1592 and U-1092 units were shutdown for...</td>\n",
       "      <td>BAYTOWN, HARRIS</td>\n",
       "      <td>On-line flare instrumentation, sampling and en...</td>\n",
       "      <td>01/06/2015 4:00PM</td>\n",
       "      <td>01/26/2015 5:00PM</td>\n",
       "      <td></td>\n",
       "      <td>RN103919817</td>\n",
       "      <td>CHEVRON PHILLIPS CHEMICAL CEDAR BAYOU PLANT</td>\n",
       "      <td>FINAL REPORT</td>\n",
       "      <td>AIR SHUTDOWN</td>\n",
       "      <td>207729</td>\n",
       "    </tr>\n",
       "    <tr>\n",
       "      <th>3</th>\n",
       "      <td>The derivative and polyethylene unit purge gas...</td>\n",
       "      <td>This Maintenance Notice is being retracted bec...</td>\n",
       "      <td>BAYTOWN, HARRIS</td>\n",
       "      <td>On-line flare instrumentation, measurements an...</td>\n",
       "      <td>01/12/2015 8:00AM</td>\n",
       "      <td>02/11/2015 1:30PM</td>\n",
       "      <td></td>\n",
       "      <td>RN103919817</td>\n",
       "      <td>CHEVRON PHILLIPS CHEMICAL CEDAR BAYOU PLANT</td>\n",
       "      <td>FINAL REPORT</td>\n",
       "      <td>MAINTENANCE</td>\n",
       "      <td>207732</td>\n",
       "    </tr>\n",
       "    <tr>\n",
       "      <th>4</th>\n",
       "      <td>Proceeded through startup as quickly as possib...</td>\n",
       "      <td>Emissions associated with Start-up of the plan...</td>\n",
       "      <td>FREEPORT, BRAZORIA</td>\n",
       "      <td>Flare and cooling tower flowmeters and analyze...</td>\n",
       "      <td>01/08/2015 7:00AM</td>\n",
       "      <td>01/11/2015 6:00AM</td>\n",
       "      <td></td>\n",
       "      <td>RN100225945</td>\n",
       "      <td>DOW TEXAS OPERATIONS FREEPORT</td>\n",
       "      <td>FINAL REPORT</td>\n",
       "      <td>AIR STARTUP</td>\n",
       "      <td>207797</td>\n",
       "    </tr>\n",
       "  </tbody>\n",
       "</table>\n",
       "</div>"
      ],
      "text/plain": [
       "                                        Action taken  \\\n",
       "0  During start-up activities, TPC Operators and ...   \n",
       "1  Enterprise recovered as much hydrocarbon as po...   \n",
       "2  EU-1592 and U-1092 followed shutdown procedure...   \n",
       "3  The derivative and polyethylene unit purge gas...   \n",
       "4  Proceeded through startup as quickly as possib...   \n",
       "\n",
       "                                               Cause            City, County  \\\n",
       "0  Reconstruction of the Dehydrogenation Unit #2 ...         HOUSTON, HARRIS   \n",
       "1  Enterprise conducted maintenance in the Splitt...  MONT BELVIEU, CHAMBERS   \n",
       "2  The EU-1592 and U-1092 units were shutdown for...         BAYTOWN, HARRIS   \n",
       "3  This Maintenance Notice is being retracted bec...         BAYTOWN, HARRIS   \n",
       "4  Emissions associated with Start-up of the plan...      FREEPORT, BRAZORIA   \n",
       "\n",
       "                         Emissions estimation method         Event began  \\\n",
       "0  CEMS units and engineering calculations were u...          02/01/2015   \n",
       "1  The emissions in this report are based on meas...  12/05/2014 10:00AM   \n",
       "2  On-line flare instrumentation, sampling and en...   01/06/2015 4:00PM   \n",
       "3  On-line flare instrumentation, measurements an...   01/12/2015 8:00AM   \n",
       "4  Flare and cooling tower flowmeters and analyze...   01/08/2015 7:00AM   \n",
       "\n",
       "         Event ended Physical location Regulated entity RN number  \\\n",
       "0  04/19/2015 1:00AM                                  RN100219526   \n",
       "1  01/16/2015 8:00AM                                  RN102984911   \n",
       "2  01/26/2015 5:00PM                                  RN103919817   \n",
       "3  02/11/2015 1:30PM                                  RN103919817   \n",
       "4  01/11/2015 6:00AM                                  RN100225945   \n",
       "\n",
       "                         Regulated entity name This is based on the  \\\n",
       "0                                HOUSTON PLANT         FINAL REPORT   \n",
       "1                              ENTERPRISE EAST         FINAL REPORT   \n",
       "2  CHEVRON PHILLIPS CHEMICAL CEDAR BAYOU PLANT         FINAL REPORT   \n",
       "3  CHEVRON PHILLIPS CHEMICAL CEDAR BAYOU PLANT         FINAL REPORT   \n",
       "4                DOW TEXAS OPERATIONS FREEPORT         FINAL REPORT   \n",
       "\n",
       "  Type(s) of air emissions event report_id  \n",
       "0                EMISSIONS EVENT    207108  \n",
       "1                    MAINTENANCE    207120  \n",
       "2                   AIR SHUTDOWN    207729  \n",
       "3                    MAINTENANCE    207732  \n",
       "4                    AIR STARTUP    207797  "
      ]
     },
     "execution_count": 11,
     "metadata": {},
     "output_type": "execute_result"
    }
   ],
   "source": [
    "historical_report_metadata = pd.DataFrame([ Report(path).metadata\n",
    "    for path in glob.glob(\"../inputs/scraped-reports-historical/*.html\") ])\n",
    "historical_report_metadata.columns = [ x.strip(\":\") for x in historical_report_metadata.columns ]\n",
    "historical_report_metadata.head()"
   ]
  },
  {
   "cell_type": "code",
   "execution_count": 12,
   "metadata": {},
   "outputs": [
    {
     "data": {
      "text/html": [
       "<div>\n",
       "<style>\n",
       "    .dataframe thead tr:only-child th {\n",
       "        text-align: right;\n",
       "    }\n",
       "\n",
       "    .dataframe thead th {\n",
       "        text-align: left;\n",
       "    }\n",
       "\n",
       "    .dataframe tbody tr th {\n",
       "        vertical-align: top;\n",
       "    }\n",
       "</style>\n",
       "<table border=\"1\" class=\"dataframe\">\n",
       "  <thead>\n",
       "    <tr style=\"text-align: right;\">\n",
       "      <th></th>\n",
       "      <th>report_id</th>\n",
       "      <th>contaminant</th>\n",
       "      <th>authorization</th>\n",
       "      <th>limit</th>\n",
       "      <th>amount_released</th>\n",
       "    </tr>\n",
       "  </thead>\n",
       "  <tbody>\n",
       "    <tr>\n",
       "      <th>0</th>\n",
       "      <td>207108</td>\n",
       "      <td>Carbon Monoxide</td>\n",
       "      <td>Initial Air Start-Up Notification #207108 Date...</td>\n",
       "      <td>1200.0 bbls</td>\n",
       "      <td>3414.0 lbs (est.)</td>\n",
       "    </tr>\n",
       "    <tr>\n",
       "      <th>1</th>\n",
       "      <td>207108</td>\n",
       "      <td>Nitrogen Oxides</td>\n",
       "      <td>Initial Air Start-Up Notification #207108 Date...</td>\n",
       "      <td>1250.0 lbs</td>\n",
       "      <td>3538.0 lbs (est.)</td>\n",
       "    </tr>\n",
       "    <tr>\n",
       "      <th>2</th>\n",
       "      <td>207108</td>\n",
       "      <td>Particulate Matter</td>\n",
       "      <td>Initial Air Start-Up Notification #207108 Date...</td>\n",
       "      <td>300.0 lbs</td>\n",
       "      <td>879.0 lbs (est.)</td>\n",
       "    </tr>\n",
       "    <tr>\n",
       "      <th>3</th>\n",
       "      <td>207108</td>\n",
       "      <td>Sulfur dioxide</td>\n",
       "      <td>Initial Air Start-Up Notification #207108 Date...</td>\n",
       "      <td>25.0 lbs</td>\n",
       "      <td>69.0 lbs (est.)</td>\n",
       "    </tr>\n",
       "    <tr>\n",
       "      <th>4</th>\n",
       "      <td>207108</td>\n",
       "      <td>VOCs</td>\n",
       "      <td>Initial Air Start-Up Notification #207108 Date...</td>\n",
       "      <td>225.0 lbs</td>\n",
       "      <td>636.0 lbs (est.)</td>\n",
       "    </tr>\n",
       "  </tbody>\n",
       "</table>\n",
       "</div>"
      ],
      "text/plain": [
       "  report_id         contaminant  \\\n",
       "0    207108     Carbon Monoxide   \n",
       "1    207108     Nitrogen Oxides   \n",
       "2    207108  Particulate Matter   \n",
       "3    207108      Sulfur dioxide   \n",
       "4    207108                VOCs   \n",
       "\n",
       "                                       authorization        limit  \\\n",
       "0  Initial Air Start-Up Notification #207108 Date...  1200.0 bbls   \n",
       "1  Initial Air Start-Up Notification #207108 Date...   1250.0 lbs   \n",
       "2  Initial Air Start-Up Notification #207108 Date...    300.0 lbs   \n",
       "3  Initial Air Start-Up Notification #207108 Date...     25.0 lbs   \n",
       "4  Initial Air Start-Up Notification #207108 Date...    225.0 lbs   \n",
       "\n",
       "     amount_released  \n",
       "0  3414.0 lbs (est.)  \n",
       "1  3538.0 lbs (est.)  \n",
       "2   879.0 lbs (est.)  \n",
       "3    69.0 lbs (est.)  \n",
       "4   636.0 lbs (est.)  "
      ]
     },
     "execution_count": 12,
     "metadata": {},
     "output_type": "execute_result"
    }
   ],
   "source": [
    "historical_report_emissions = pd.concat([ pd.DataFrame(Report(path).emissions)\n",
    "    for path in glob.glob(\"../inputs/scraped-reports-historical/*.html\") ])\n",
    "historical_report_emissions.columns = [ \"report_id\", \"contaminant\", \"authorization\", \"limit\", \"amount_released\" ]\n",
    "historical_report_emissions.head()"
   ]
  },
  {
   "cell_type": "code",
   "execution_count": 13,
   "metadata": {
    "collapsed": true
   },
   "outputs": [],
   "source": [
    "historical_report_metadata.to_csv(\"../outputs/report-metadata-raw-historical.csv\", index=False)\n",
    "historical_report_emissions.to_csv(\"../outputs/report-emissions-raw-historical.csv\", index=False)"
   ]
  },
  {
   "cell_type": "markdown",
   "metadata": {},
   "source": [
    "---\n",
    "\n",
    "---\n",
    "\n",
    "---"
   ]
  }
 ],
 "metadata": {
  "kernelspec": {
   "display_name": "Python 3",
   "language": "python",
   "name": "python3"
  },
  "language_info": {
   "codemirror_mode": {
    "name": "ipython",
    "version": 3
   },
   "file_extension": ".py",
   "mimetype": "text/x-python",
   "name": "python",
   "nbconvert_exporter": "python",
   "pygments_lexer": "ipython3",
   "version": "3.4.3"
  }
 },
 "nbformat": 4,
 "nbformat_minor": 2
}
